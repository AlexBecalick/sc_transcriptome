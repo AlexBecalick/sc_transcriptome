{
 "cells": [
  {
   "cell_type": "code",
   "execution_count": null,
   "metadata": {},
   "outputs": [],
   "source": [
    "import numpy as np\n",
    "import pandas as pd\n",
    "import scanpy as sc\n",
    "import matplotlib.pyplot as plt"
   ]
  },
  {
   "cell_type": "code",
   "execution_count": null,
   "metadata": {},
   "outputs": [],
   "source": [
    "sc.settings.verbosity = 3             # verbosity: errors (0), warnings (1), info (2), hints (3)\n",
    "sc.logging.print_header()\n",
    "sc.settings.set_figure_params(dpi=80, facecolor='white')"
   ]
  },
  {
   "cell_type": "code",
   "execution_count": null,
   "metadata": {},
   "outputs": [],
   "source": [
    "df_data = pd.read_pickle('count_matrix_filtered.pkl').T \n",
    "adata = sc.AnnData(df_data)\n",
    "adata.var.index.name = \"Cell indices\"\n",
    "adata.var_names_make_unique()"
   ]
  },
  {
   "cell_type": "code",
   "execution_count": null,
   "metadata": {},
   "outputs": [],
   "source": [
    "sc.pl.highest_expr_genes(adata, n_top=20)\n",
    "adata.var['mt'] = adata.var_names.str.startswith('mt-')  # annotate the group of mitochondrial genes as 'mt'\n",
    "sc.pp.calculate_qc_metrics(adata, qc_vars=['mt'], percent_top=None, log1p=False, inplace=True)\n",
    "sc.pl.violin(adata, ['n_genes_by_counts', 'total_counts', 'pct_counts_mt'],\n",
    "             jitter=0.4, multi_panel=True)"
   ]
  },
  {
   "cell_type": "code",
   "execution_count": null,
   "metadata": {},
   "outputs": [],
   "source": [
    "adata.raw = adata\n",
    "sc.pp.normalize_total(adata, target_sum=1e4)\n",
    "sc.pp.log1p(adata)"
   ]
  },
  {
   "cell_type": "code",
   "execution_count": null,
   "metadata": {},
   "outputs": [],
   "source": [
    "sc.tl.pca(adata, svd_solver='arpack')\n",
    "sc.pl.pca(adata, color='Sst')\n",
    "sc.pl.pca_variance_ratio(adata, log=True)"
   ]
  },
  {
   "cell_type": "code",
   "execution_count": null,
   "metadata": {},
   "outputs": [],
   "source": [
    "sc.pp.neighbors(adata, n_neighbors=10, n_pcs=40)\n",
    "sc.tl.umap(adata, min_dist=0.6)\n",
    "sc.tl.leiden(adata, resolution=0.1)"
   ]
  },
  {
   "cell_type": "code",
   "execution_count": null,
   "metadata": {},
   "outputs": [],
   "source": [
    "sc.set_figure_params(dpi=200, frameon=False, figsize=(6, 6), facecolor='white', fontsize=6)\n",
    "sc.pl.umap(adata, color=['Slc17a6', 'Gad1', 'Mbp', 'Aldh1a1', 'leiden'], ncols=2, vmax=['p99', 'p99', 'p99', 'p99', None])"
   ]
  },
  {
   "cell_type": "code",
   "execution_count": null,
   "metadata": {},
   "outputs": [],
   "source": [
    "marker_genes = [\n",
    "'Drd1',\n",
    "'Drd2',\n",
    "'Drd3',\n",
    "'Drd4', \n",
    "'Drd5',\n",
    "'Slc6a3',\n",
    "'Slc6a4',\n",
    "'Slc32a1',\n",
    "'Slc17a8',\n",
    "'Slc17a6',\n",
    "'Htr7',\n",
    "'Htr6',\n",
    "'Htr5b',\n",
    "'Htr5a',\n",
    "'Htr4',\n",
    "'Htr3b',\n",
    "'Htr3a',\n",
    "'Htr2c',\n",
    "'Htr2b',\n",
    "'Htr2a',\n",
    "'Htr1d',\n",
    "'Htr1b',\n",
    "'Htr1a',\n",
    "'Pitx2',\n",
    "'Ntsr1',\n",
    "'Grp',\n",
    "'Tac1',\n",
    "'Cbln2',\n",
    "'Camk2a',\n",
    "'Cntnap5a',\n",
    "'Cacna2d1',\n",
    "'Lypd1',\n",
    "'Ntsr1',\n",
    "'Ntng2',\n",
    "'Pitx2',\n",
    "'Pvalb',\n",
    "'Sst',\n",
    "'Vip',\n",
    "'Tshz3',\n",
    "'Tmem163',\n",
    "'Tcf7l2',\n",
    "]"
   ]
  },
  {
   "cell_type": "code",
   "execution_count": null,
   "metadata": {},
   "outputs": [],
   "source": [
    "sc.set_figure_params(dpi=200, frameon=False, figsize=(6, 6), facecolor='white', fontsize=12)\n",
    "sc.pl.dotplot(adata, marker_genes, groupby='leiden')"
   ]
  },
  {
   "cell_type": "code",
   "execution_count": null,
   "metadata": {},
   "outputs": [],
   "source": [
    "#Below is older code for reference\n",
    "sc.tl.rank_genes_groups(adata, 'leiden', method='logreg')\n",
    "sc.pl.rank_genes_groups(adata, n_genes=25, sharey=False)\n",
    "sc.pl.stacked_violin(adata, marker_genes, groupby='leiden', rotation=90)"
   ]
  },
  {
   "cell_type": "code",
   "execution_count": null,
   "metadata": {},
   "outputs": [],
   "source": [
    "#Equivalent to seurat NormalizeData\n",
    "sc.pp.normalize_total(adata, target_sum=10_000, exclude_highly_expressed=True)\n",
    "lognormadata = sc.pp.log1p(adata)"
   ]
  },
  {
   "cell_type": "code",
   "execution_count": null,
   "metadata": {},
   "outputs": [],
   "source": [
    "#Equivalent to seurat FindVariableGenes\n",
    "sc.pp.highly_variable_genes(adata, n_top_genes=2000)"
   ]
  },
  {
   "cell_type": "code",
   "execution_count": null,
   "metadata": {},
   "outputs": [],
   "source": [
    "#Equivalent to seurat RunPCA\n",
    "sc.pp.pca(adata, use_highly_variable=True)"
   ]
  },
  {
   "cell_type": "code",
   "execution_count": null,
   "metadata": {},
   "outputs": [],
   "source": [
    "#Equivalent to using fastMNN\n",
    "sc.external.pp.mnn_correct(adata)"
   ]
  },
  {
   "cell_type": "code",
   "execution_count": null,
   "metadata": {},
   "outputs": [],
   "source": [
    "#perplexity = 5\n",
    "sc.pl.tsne(adata, color=['Slc17a6', 'Gad1', 'Mbp', 'Pdgfra', 'Aldh1a1', 'Cx3cr1', 'Cldn5', 'Foxc1', 'Pitx2', 'Cbln2', 'Drd1', 'Tac1'], ncols=4)\n",
    "sc.pl.tsne(adata, color=['leiden'])"
   ]
  }
 ],
 "metadata": {
  "kernelspec": {
   "display_name": "RNAseq",
   "language": "python",
   "name": "python3"
  },
  "language_info": {
   "codemirror_mode": {
    "name": "ipython",
    "version": 3
   },
   "file_extension": ".py",
   "mimetype": "text/x-python",
   "name": "python",
   "nbconvert_exporter": "python",
   "pygments_lexer": "ipython3",
   "version": "3.9.16"
  },
  "orig_nbformat": 4,
  "vscode": {
   "interpreter": {
    "hash": "2aec18b9fd53c55b7bbcc0fd3ec3a26e1e9125a4297b53d40e0ea48ac9fe5e69"
   }
  }
 },
 "nbformat": 4,
 "nbformat_minor": 2
}
