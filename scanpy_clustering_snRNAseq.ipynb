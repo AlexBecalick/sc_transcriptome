{
 "cells": [
  {
   "cell_type": "code",
   "execution_count": null,
   "metadata": {},
   "outputs": [],
   "source": [
    "import numpy as np\n",
    "import pandas as pd\n",
    "import scanpy as sc\n",
    "import matplotlib.pyplot as plt"
   ]
  },
  {
   "cell_type": "code",
   "execution_count": null,
   "metadata": {},
   "outputs": [],
   "source": [
    "sc.settings.verbosity = 3             # verbosity: errors (0), warnings (1), info (2), hints (3)\n",
    "sc.logging.print_header()\n",
    "sc.settings.set_figure_params(dpi=80, facecolor='white')"
   ]
  },
  {
   "cell_type": "code",
   "execution_count": null,
   "metadata": {},
   "outputs": [],
   "source": [
    "adata = sc.read_mtx('GSE224407_sc_mat.mtx')\n",
    "adata = adata.transpose()\n",
    "# Add metadata from paper\n",
    "obs = pd.read_csv('GSE224407_metadata.tsv', sep='\\t', header='Unnamed: 0')\n",
    "var = pd.read_csv('GSE224407_genes.tsv', sep='\\t', header=None)\n",
    "adata.obs = obs\n",
    "adata.var = var\n",
    "adata.var_names = adata.var[1]\n",
    "\n",
    "# Set premade umap coords from metadata to obsm\n",
    "umap_coords = adata.obs[['sc_UMAP_1', 'sc_UMAP_2']].values\n",
    "adata.obsm['umap'] = umap_coords\n",
    "adata\n"
   ]
  },
  {
   "cell_type": "code",
   "execution_count": null,
   "metadata": {},
   "outputs": [],
   "source": [
    "sc.set_figure_params(dpi=200, frameon=False, figsize=(6, 6), facecolor='white', fontsize=6)\n",
    "sc.pl.umap(adata[adata.obs['time']=='P21'], layer='umap', color=['subtype'], size=8, legend_loc='on data', legend_fontoutline=1, palette='tab20')\n",
    "sc.pl.umap(adata, layer='umap', color=['celltype'], size=8, legend_loc='on data', legend_fontoutline=1, palette='tab20')\n",
    "sc.pl.umap(adata, layer='umap', color=['percent_rp'], size=8, legend_loc='on data', legend_fontoutline=1, palette='tab20')\n",
    "sc.pl.umap(adata, layer='umap', color=['SingleR_Vectorseq'], size=8, legend_fontoutline=1, palette='tab20')"
   ]
  },
  {
   "cell_type": "code",
   "execution_count": null,
   "metadata": {},
   "outputs": [],
   "source": [
    "marker_genes = [\n",
    "'Drd1',\n",
    "'Drd2',\n",
    "'Drd3',\n",
    "'Drd4', \n",
    "'Drd5',\n",
    "'Slc6a3',\n",
    "'Slc6a4',\n",
    "'Slc32a1',\n",
    "'Slc17a8',\n",
    "'Slc17a6',\n",
    "'Htr7',\n",
    "'Htr6',\n",
    "'Htr5b',\n",
    "'Htr5a',\n",
    "'Htr4',\n",
    "'Htr3b',\n",
    "'Htr3a',\n",
    "'Htr2c',\n",
    "'Htr2b',\n",
    "'Htr2a',\n",
    "'Htr1d',\n",
    "'Htr1b',\n",
    "'Htr1a',\n",
    "'Pitx2',\n",
    "'Ntsr1',\n",
    "'Grp',\n",
    "'Tac1',\n",
    "'Cbln2',\n",
    "'Camk2a',\n",
    "'Cntnap5a',\n",
    "'Cacna2d1',\n",
    "'Lypd1',\n",
    "'Ntsr1',\n",
    "'Ntng2',\n",
    "'Pitx2',\n",
    "'Pvalb',\n",
    "'Sst',\n",
    "'Vip',\n",
    "'Tshz3',\n",
    "'Tmem163',\n",
    "'Tcf7l2',\n",
    "]"
   ]
  },
  {
   "cell_type": "code",
   "execution_count": null,
   "metadata": {},
   "outputs": [],
   "source": [
    "sc.set_figure_params(dpi=200, frameon=False, figsize=(6, 6), facecolor='white', fontsize=12)\n",
    "sc.pl.dotplot(adata[adata.obs['time']=='P21'], marker_genes, groupby='subtype')"
   ]
  }
 ],
 "metadata": {
  "kernelspec": {
   "display_name": "RNAseq",
   "language": "python",
   "name": "python3"
  },
  "language_info": {
   "codemirror_mode": {
    "name": "ipython",
    "version": 3
   },
   "file_extension": ".py",
   "mimetype": "text/x-python",
   "name": "python",
   "nbconvert_exporter": "python",
   "pygments_lexer": "ipython3",
   "version": "3.9.16"
  },
  "orig_nbformat": 4,
  "vscode": {
   "interpreter": {
    "hash": "2aec18b9fd53c55b7bbcc0fd3ec3a26e1e9125a4297b53d40e0ea48ac9fe5e69"
   }
  }
 },
 "nbformat": 4,
 "nbformat_minor": 2
}
